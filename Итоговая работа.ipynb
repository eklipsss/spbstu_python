{
 "cells": [
  {
   "cell_type": "markdown",
   "id": "4feb6bdc",
   "metadata": {},
   "source": [
    "# Конторальная работа"
   ]
  },
  {
   "cell_type": "markdown",
   "id": "4b6631bd",
   "metadata": {},
   "source": [
    "## Порядок сдачи"
   ]
  },
  {
   "cell_type": "markdown",
   "id": "bee4fcc0",
   "metadata": {},
   "source": [
    "Каждое задание оценивается в 10 баллов. Код нужно отправить напрямую в СДО как текст. Перед сдачей проверьте код, напишите тесты. Не забудьте про `PEP8`, например, с помощью `flake8`.\n",
    "\n",
    "Дедлайн - 9 декабря 10:00"
   ]
  },
  {
   "cell_type": "markdown",
   "id": "d777f71d",
   "metadata": {
    "ExecuteTime": {
     "end_time": "2024-11-03T13:46:28.412754Z",
     "start_time": "2024-11-03T13:46:28.400723Z"
    }
   },
   "source": [
    "## Разворот строки"
   ]
  },
  {
   "cell_type": "markdown",
   "id": "922a2c11",
   "metadata": {
    "ExecuteTime": {
     "end_time": "2024-11-29T05:14:51.098358Z",
     "start_time": "2024-11-29T05:14:51.077875Z"
    }
   },
   "source": [
    "Напишите функцию, которая принимает строку в качестве входного параметра и возвращает новую строку, в которой символы исходной строки расположены в обратном порядке."
   ]
  },
  {
   "cell_type": "code",
   "execution_count": 1,
   "id": "806e728c",
   "metadata": {
    "ExecuteTime": {
     "end_time": "2024-11-29T05:16:11.730919Z",
     "start_time": "2024-11-29T05:16:11.713903Z"
    }
   },
   "outputs": [
    {
     "name": "stdout",
     "output_type": "stream",
     "text": [
      "olleh\n",
      "тевирП\n",
      "54321\n"
     ]
    }
   ],
   "source": [
    "def reverse_string(s):\n",
    "    return s[::-1]\n",
    "\n",
    "print(reverse_string(\"hello\"))    # Вывод: \"olleh\"\n",
    "print(reverse_string(\"Привет\"))   # Вывод: \"тевирП\"\n",
    "print(reverse_string(\"12345\"))    # Вывод: \"54321\""
   ]
  },
  {
   "cell_type": "markdown",
   "id": "4e5cb30c",
   "metadata": {},
   "source": [
    "# Ромб"
   ]
  },
  {
   "cell_type": "markdown",
   "id": "5cfea6f0",
   "metadata": {},
   "source": [
    "Напишите функцию, которая выводит на экран ромб, составленный из символов звёздочек `*`. Размер ромба определяется введённым пользователем нечётным числом n, которое задаёт ширину (и высоту) ромба в его самой широкой части."
   ]
  },
  {
   "cell_type": "code",
   "execution_count": 11,
   "id": "4b19f7e2",
   "metadata": {},
   "outputs": [
    {
     "name": "stdout",
     "output_type": "stream",
     "text": [
      "   *\n",
      "  ***\n",
      " *****\n",
      "*******\n",
      " *****\n",
      "  ***\n",
      "   *\n",
      "\n",
      "    *\n",
      "   ***\n",
      "  *****\n",
      " *******\n",
      "*********\n",
      " *******\n",
      "  *****\n",
      "   ***\n",
      "    *\n",
      "\n"
     ]
    }
   ],
   "source": [
    "def draw(n):\n",
    "    str = ''\n",
    "\n",
    "    # Верхняя часть ромба\n",
    "    for i in range(1, n + 1, 2):\n",
    "        str = str + \" \" * ((n - i) // 2) + \"*\" * i + \"\\n\"\n",
    "\n",
    "    # Нижняя часть ромба\n",
    "    for i in range(n - 2, 0, -2):\n",
    "        str = str + \" \" * ((n - i) // 2) + \"*\" * i + \"\\n\"\n",
    "\n",
    "    return str\n",
    "\n",
    "\n",
    "print(draw(7))\n",
    "#   *\n",
    "#  ***\n",
    "# *****\n",
    "#*******\n",
    "# *****\n",
    "#  ***\n",
    "#   *\n",
    "\n",
    "print(draw(9))\n",
    "#     *\n",
    "#    ***\n",
    "#   *****\n",
    "#  *******\n",
    "# *********\n",
    "#  *******\n",
    "#   *****\n",
    "#    ***\n",
    "#     *"
   ]
  },
  {
   "cell_type": "markdown",
   "id": "a86c90c8",
   "metadata": {},
   "source": [
    "# НОД"
   ]
  },
  {
   "cell_type": "markdown",
   "id": "3f967b9f",
   "metadata": {
    "ExecuteTime": {
     "end_time": "2024-11-29T05:21:08.316284Z",
     "start_time": "2024-11-29T05:21:08.286749Z"
    }
   },
   "source": [
    "Напишите функцию, которая вычисляет наибольший общий делитель (НОД) двух целых чисел."
   ]
  },
  {
   "cell_type": "code",
   "execution_count": 12,
   "id": "de608275",
   "metadata": {},
   "outputs": [
    {
     "name": "stdout",
     "output_type": "stream",
     "text": [
      "6\n",
      "25\n",
      "1\n"
     ]
    }
   ],
   "source": [
    "def gcd(a, b):\n",
    "    while b != 0:\n",
    "        a, b = b, a % b \n",
    "    return a\n",
    "\n",
    "print(gcd(48, 18))   # Вывод: 6\n",
    "print(gcd(100, 25))  # Вывод: 25\n",
    "print(gcd(17, 13))   # Вывод: 1"
   ]
  },
  {
   "cell_type": "markdown",
   "id": "49641d4f",
   "metadata": {
    "ExecuteTime": {
     "end_time": "2024-11-29T05:22:49.681923Z",
     "start_time": "2024-11-29T05:22:49.657297Z"
    }
   },
   "source": [
    "# Система счисления"
   ]
  },
  {
   "cell_type": "markdown",
   "id": "82e1a3cf",
   "metadata": {},
   "source": [
    "Напишите функцию, которая принимает строковое представление числа в произвольной системе (макс. 36) счисления и его основание, и возвращает это число в десятичной системе счисления."
   ]
  },
  {
   "cell_type": "code",
   "execution_count": 14,
   "id": "0365d57b",
   "metadata": {
    "ExecuteTime": {
     "end_time": "2024-11-29T05:23:50.498455Z",
     "start_time": "2024-11-29T05:23:50.480951Z"
    }
   },
   "outputs": [
    {
     "name": "stdout",
     "output_type": "stream",
     "text": [
      "10\n",
      "26\n",
      "83\n",
      "35\n"
     ]
    }
   ],
   "source": [
    "def convert_to_decimal(number_str, base):\n",
    "    # Первый способ\n",
    "    # return int(number_str, base)\n",
    "\n",
    "    # Второй способ\n",
    "    char_val = {chr(i): i - 48 for i in range(48, 58)}  # '0' - '9' -> 0 - 9\n",
    "    char_val.update({chr(i): i - 65 + 10 for i in range(65, 91)})  # 'A' - 'Z' -> 10 - 35\n",
    "\n",
    "    result = 0\n",
    "    for symbol in number_str:\n",
    "        result = result * base + char_val[symbol.upper()]  # .upper() для обработки прописных букв\n",
    "\n",
    "    return result\n",
    "\n",
    "print(convert_to_decimal(\"1010\", 2))    # Вывод: 10\n",
    "print(convert_to_decimal(\"1A\", 16))     # Вывод: 26\n",
    "print(convert_to_decimal(\"123\", 8))     # Вывод: 83\n",
    "print(convert_to_decimal(\"Z\", 36))      # Вывод: 35"
   ]
  },
  {
   "cell_type": "markdown",
   "id": "be9f88ed",
   "metadata": {
    "ExecuteTime": {
     "end_time": "2024-11-29T05:24:07.620180Z",
     "start_time": "2024-11-29T05:24:07.594765Z"
    }
   },
   "source": [
    "# Палиндром"
   ]
  },
  {
   "cell_type": "markdown",
   "id": "f0a84a85",
   "metadata": {},
   "source": [
    "Напишите функцию, которая проверяет, является ли заданная строка палиндромом."
   ]
  },
  {
   "cell_type": "code",
   "execution_count": 15,
   "id": "70581d0a",
   "metadata": {
    "ExecuteTime": {
     "end_time": "2024-11-29T05:25:32.462861Z",
     "start_time": "2024-11-29T05:25:32.440252Z"
    }
   },
   "outputs": [
    {
     "name": "stdout",
     "output_type": "stream",
     "text": [
      "True\n",
      "True\n",
      "False\n"
     ]
    }
   ],
   "source": [
    "def is_palindrome(s):\n",
    "    s = s.lower()\n",
    "    \n",
    "    left, right = 0, len(s) - 1\n",
    "    \n",
    "    while left < right:\n",
    "        if s[left] != s[right]:\n",
    "            return False\n",
    "        left += 1\n",
    "        right -= 1\n",
    "        \n",
    "    return True\n",
    "\n",
    "print(is_palindrome(\"мадам\"))                  # Вывод: True\n",
    "print(is_palindrome(\"топот\"))                  # Вывод: True\n",
    "print(is_palindrome(\"привет\"))                 # Вывод: False"
   ]
  },
  {
   "cell_type": "markdown",
   "id": "71e9e2d5",
   "metadata": {},
   "source": [
    "# k порядковая статистика"
   ]
  },
  {
   "cell_type": "markdown",
   "id": "6684874d",
   "metadata": {},
   "source": [
    "Напишите функцию, которая принимает массив чисел и целое число $k$, и вычисляет количество элементов в массиве, которые больше, чем элемент, находящийся на позиции $k$ в упорядоченном по возрастанию массиве (т.е. больше, чем $k$-я порядковая статистика)."
   ]
  },
  {
   "cell_type": "code",
   "execution_count": 21,
   "id": "44ed558c",
   "metadata": {},
   "outputs": [
    {
     "name": "stdout",
     "output_type": "stream",
     "text": [
      "2\n"
     ]
    }
   ],
   "source": [
    "import random\n",
    "\n",
    "# Первый способ\n",
    "# def count_greater_than_kth(arr, k):\n",
    "#     sorted_arr = sorted(arr)\n",
    "#     kth_stat = sorted_arr[k - 1]  \n",
    "#     count = sum(1 for x in arr if x > kth_stat)\n",
    "    \n",
    "#     return count\n",
    "\n",
    "# Второй способ (оптимизация)\n",
    "def quickselect(arr, left, right, k):\n",
    "    if left == right:\n",
    "        return arr[left]\n",
    "\n",
    "    pivot_index = random.randint(left, right)\n",
    "    pivot_index = partition(arr, left, right, pivot_index)\n",
    "    \n",
    "    if k == pivot_index:\n",
    "        return arr[k]\n",
    "    elif k < pivot_index:\n",
    "        return quickselect(arr, left, pivot_index - 1, k)\n",
    "    else:\n",
    "        return quickselect(arr, pivot_index + 1, right, k)\n",
    "\n",
    "def partition(arr, left, right, pivot_index):\n",
    "    pivot_value = arr[pivot_index]\n",
    "\n",
    "    arr[pivot_index], arr[right] = arr[right], arr[pivot_index]\n",
    "    store_index = left\n",
    "    for i in range(left, right):\n",
    "        if arr[i] < pivot_value:\n",
    "            arr[store_index], arr[i] = arr[i], arr[store_index]\n",
    "            store_index += 1\n",
    "            \n",
    "    arr[right], arr[store_index] = arr[store_index], arr[right]\n",
    "    return store_index\n",
    "\n",
    "def count_greater_than_kth(arr, k):\n",
    "    k = k - 1\n",
    "\n",
    "    arr_copy = arr[:]\n",
    "    \n",
    "    kth_stat = quickselect(arr_copy, 0, len(arr_copy) - 1, k)\n",
    "\n",
    "    count = sum(1 for x in arr if x > kth_stat)\n",
    "    \n",
    "    return count\n",
    "\n",
    "arr = [5, 3, 8, 6, 2]\n",
    "k = 3\n",
    "result = count_greater_than_kth(arr, k)\n",
    "print(result)  # Вывод: 2"
   ]
  },
  {
   "cell_type": "markdown",
   "id": "77efd0dc",
   "metadata": {},
   "source": [
    "# Уникальные подстроки"
   ]
  },
  {
   "cell_type": "markdown",
   "id": "46fef851",
   "metadata": {},
   "source": [
    "Напишите функцию, которая принимает строку и целое число k, и подсчитывает количество уникальных подстрок длины k в этом тексте."
   ]
  },
  {
   "cell_type": "code",
   "execution_count": 22,
   "id": "424e65b3",
   "metadata": {},
   "outputs": [
    {
     "name": "stdout",
     "output_type": "stream",
     "text": [
      "3\n"
     ]
    }
   ],
   "source": [
    "def count_unique_substrings(text, k):\n",
    "    if k > len(text) or k <= 0:  \n",
    "        return 0\n",
    "    \n",
    "    unique_substrings = set() \n",
    "    \n",
    "    for i in range(len(text) - k + 1):  \n",
    "        substring = text[i:i + k]  \n",
    "        unique_substrings.add(substring) \n",
    "    \n",
    "    return len(unique_substrings)\n",
    "\n",
    "text = \"abcabc\"\n",
    "k = 3\n",
    "result = count_unique_substrings(text, k)\n",
    "print(result)  # Вывод: 3"
   ]
  },
  {
   "cell_type": "markdown",
   "id": "cf18ac36",
   "metadata": {},
   "source": [
    "# Минимум"
   ]
  },
  {
   "cell_type": "markdown",
   "id": "9877ee9c",
   "metadata": {},
   "source": [
    "Напишите функцию, которая для заданного целого числа N находит такие целые положительные числа $a, b, c$, что произведение $a * b * c = N$, и сумма $a + b + c$ минимальна."
   ]
  },
  {
   "cell_type": "code",
   "execution_count": 23,
   "id": "d9d979e2",
   "metadata": {},
   "outputs": [
    {
     "name": "stdout",
     "output_type": "stream",
     "text": [
      "(2, 2, 3)\n",
      "(3, 3, 3)\n",
      "(1, 1, 7)\n"
     ]
    }
   ],
   "source": [
    "# Функция для нахождения всех делителей числа n\n",
    "def find_divisors(n):\n",
    "    divisors = set()\n",
    "    for i in range(1, int(n**0.5) + 1):  \n",
    "        if n % i == 0:\n",
    "            divisors.add(i)\n",
    "            divisors.add(n // i)\n",
    "    return sorted(divisors)\n",
    "\n",
    "def minimum(n):\n",
    "    divisors = find_divisors(n)  \n",
    "    min_sum = float('inf')  \n",
    "    result = (1, 1, n)  \n",
    "    \n",
    "    for a in divisors:\n",
    "        for b in divisors:\n",
    "            c = n // (a * b)  \n",
    "            if a * b * c == n:  \n",
    "                sum_abc = a + b + c\n",
    "                if sum_abc < min_sum:  \n",
    "                    min_sum = sum_abc\n",
    "                    result = (a, b, c)\n",
    "\n",
    "    return result\n",
    "\n",
    "print(minimum(12))                  # Вывод: 2, 2, 3\n",
    "print(minimum(27))                  # Вывод: 3, 3, 3\n",
    "print(minimum(7))                   # Вывод: 1, 1, 7"
   ]
  },
  {
   "cell_type": "markdown",
   "id": "9e5b32c1",
   "metadata": {
    "ExecuteTime": {
     "end_time": "2024-11-29T05:39:16.335011Z",
     "start_time": "2024-11-29T05:39:16.321409Z"
    }
   },
   "source": [
    "# Определитель"
   ]
  },
  {
   "cell_type": "markdown",
   "id": "1458eff3",
   "metadata": {
    "ExecuteTime": {
     "end_time": "2024-11-29T05:39:34.497125Z",
     "start_time": "2024-11-29T05:39:34.474266Z"
    }
   },
   "source": [
    "Напишите функцию, которая вычисляет определитель заданной квадратной матрицы."
   ]
  },
  {
   "cell_type": "code",
   "execution_count": 28,
   "id": "40491c23",
   "metadata": {},
   "outputs": [
    {
     "name": "stdout",
     "output_type": "stream",
     "text": [
      "-2.0\n",
      "22.0\n",
      "0\n"
     ]
    }
   ],
   "source": [
    "# Первый способ \n",
    "# def determinant(matrix):\n",
    "#     # Базовый случай для матрицы 2x2\n",
    "#     if len(matrix) == 2:\n",
    "#         return matrix[0][0] * matrix[1][1] - matrix[0][1] * matrix[1][0]\n",
    "    \n",
    "#     det = 0\n",
    "    \n",
    "#     # Для матрицы размера больше 2x2 применяем разложение по первой строке\n",
    "#     for i in range(len(matrix)):\n",
    "#         submatrix = [row[:i] + row[i+1:] for row in matrix[1:]]\n",
    "#         det += (-1) ** i * matrix[0][i] * determinant(submatrix)\n",
    "    \n",
    "#     return det\n",
    "\n",
    "# Второй способ (оптимизация с помощью приведения к треугольной матрице)\n",
    "def determinant(matrix):\n",
    "    n = len(matrix)\n",
    "\n",
    "    # Переменная для хранения знака определителя \n",
    "    sign = 1\n",
    "\n",
    "    for i in range(n):\n",
    "        if matrix[i][i] == 0:\n",
    "            # Если элемент на диагонали равен нулю, ищем строку с ненулевым элементом\n",
    "            for j in range(i+1, n):\n",
    "                if matrix[j][i] != 0:\n",
    "                    matrix[i], matrix[j] = matrix[j], matrix[i]  # Меняем строки\n",
    "                    sign *= -1  # Меняем знак определителя\n",
    "                    break\n",
    "\n",
    "        # Если матрица вырождена, то определитель равен 0\n",
    "        if matrix[i][i] == 0:\n",
    "            return 0\n",
    "\n",
    "        # Приводим матрицу к верхнетреугольному виду\n",
    "        for j in range(i+1, n):\n",
    "            if matrix[j][i] != 0:\n",
    "                factor = matrix[j][i] / matrix[i][i]  # Строка j -= строка i, умноженная на коэффициент для обнуления элемента\n",
    "                for k in range(i, n):\n",
    "                    matrix[j][k] -= factor * matrix[i][k]\n",
    "\n",
    "    # Определитель равен произведению диагональных элементов, учитывая знак\n",
    "    det = sign\n",
    "    for i in range(n):\n",
    "        det *= matrix[i][i]\n",
    "\n",
    "    return det\n",
    "\n",
    "matrix = [\n",
    "    [1, 2],\n",
    "    [3, 4]\n",
    "]\n",
    "result = determinant(matrix)\n",
    "print(result)  # Вывод: -2\n",
    "\n",
    "matrix_3 = [\n",
    "    [1, 2, 3],\n",
    "    [0, 4, 5],\n",
    "    [1, 0, 6]\n",
    "]\n",
    "print(determinant(matrix_3))  # Вывод: 22\n",
    "\n",
    "matrix_4 = [\n",
    "    [1, 2, 3, 4],\n",
    "    [5, 6, 7, 8],\n",
    "    [9, 10, 11, 12],\n",
    "    [13, 14, 15, 16]\n",
    "]\n",
    "print(determinant(matrix_4))  # Вывод: 0 (матрица вырождена)"
   ]
  },
  {
   "cell_type": "markdown",
   "id": "c9983f43",
   "metadata": {},
   "source": [
    "# Скобочная последовательность"
   ]
  },
  {
   "cell_type": "markdown",
   "id": "e776102b",
   "metadata": {},
   "source": [
    "Напишите функцию, которая проверяет правильность скобочной последовательности в заданной строке. Последовательность считается правильной, если все открывающиеся скобки корректно закрываются соответствующими закрывающими скобками в правильном порядке."
   ]
  },
  {
   "cell_type": "code",
   "execution_count": 30,
   "id": "0afd220e",
   "metadata": {},
   "outputs": [
    {
     "name": "stdout",
     "output_type": "stream",
     "text": [
      "True\n"
     ]
    }
   ],
   "source": [
    "def is_valid_sequence(s):\n",
    "    # Создаем словарь для соответствия открывающих и закрывающих скобок\n",
    "    brackets_map = {')': '(', '}': '{', ']': '['}\n",
    "    stack = []\n",
    "    \n",
    "    # Проходим по каждому символу строки\n",
    "    for symbol in s:\n",
    "        if symbol in brackets_map.values():  # Если открывающая скобка\n",
    "            stack.append(symbol)\n",
    "        elif symbol in brackets_map:  # Если закрывающая скобка\n",
    "            if stack and stack[-1] == brackets_map[symbol]:  # Проверяем соответствие\n",
    "                stack.pop()  # Удаляем последнюю открывающую скобку\n",
    "            else:\n",
    "                return False  # Несоответствие, неправильная последовательность\n",
    "    \n",
    "    # Если стек пуст, то все скобки были корректно закрыты\n",
    "    return len(stack) == 0\n",
    "\n",
    "s = \"({[]})\"\n",
    "result = is_valid_sequence(s)\n",
    "print(result)  # Вывод: True"
   ]
  }
 ],
 "metadata": {
  "kernelspec": {
   "display_name": "Python 3",
   "language": "python",
   "name": "python3"
  },
  "language_info": {
   "codemirror_mode": {
    "name": "ipython",
    "version": 3
   },
   "file_extension": ".py",
   "mimetype": "text/x-python",
   "name": "python",
   "nbconvert_exporter": "python",
   "pygments_lexer": "ipython3",
   "version": "3.12.0"
  }
 },
 "nbformat": 4,
 "nbformat_minor": 5
}
