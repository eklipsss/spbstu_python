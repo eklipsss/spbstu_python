{
 "cells": [
  {
   "cell_type": "markdown",
   "id": "4feb6bdc",
   "metadata": {},
   "source": [
    "# Конторальная работа"
   ]
  },
  {
   "cell_type": "markdown",
   "id": "4b6631bd",
   "metadata": {},
   "source": [
    "## Порядок сдачи"
   ]
  },
  {
   "cell_type": "markdown",
   "id": "bee4fcc0",
   "metadata": {},
   "source": [
    "Каждое задание оценивается в 10 баллов. Код нужно отправить напрямую в СДО как текст. Перед сдачей проверьте код, напишите тесты. Не забудьте про `PEP8`, например, с помощью `flake8`.\n",
    "\n",
    "Дедлайн - 9 декабря 10:00"
   ]
  },
  {
   "cell_type": "markdown",
   "id": "d777f71d",
   "metadata": {
    "ExecuteTime": {
     "end_time": "2024-11-03T13:46:28.412754Z",
     "start_time": "2024-11-03T13:46:28.400723Z"
    }
   },
   "source": [
    "## Разворот строки"
   ]
  },
  {
   "cell_type": "markdown",
   "id": "922a2c11",
   "metadata": {
    "ExecuteTime": {
     "end_time": "2024-11-29T05:14:51.098358Z",
     "start_time": "2024-11-29T05:14:51.077875Z"
    }
   },
   "source": [
    "Напишите функцию, которая принимает строку в качестве входного параметра и возвращает новую строку, в которой символы исходной строки расположены в обратном порядке."
   ]
  },
  {
   "cell_type": "code",
   "execution_count": null,
   "id": "806e728c",
   "metadata": {
    "ExecuteTime": {
     "end_time": "2024-11-29T05:16:11.730919Z",
     "start_time": "2024-11-29T05:16:11.713903Z"
    }
   },
   "outputs": [],
   "source": [
    "def reverse_string(s):\n",
    "    pass\n",
    "\n",
    "print(reverse_string(\"hello\"))    # Вывод: \"olleh\"\n",
    "print(reverse_string(\"Привет\"))   # Вывод: \"тевирП\"\n",
    "print(reverse_string(\"12345\"))    # Вывод: \"54321\""
   ]
  },
  {
   "cell_type": "markdown",
   "id": "4e5cb30c",
   "metadata": {},
   "source": [
    "# Ромб"
   ]
  },
  {
   "cell_type": "markdown",
   "id": "5cfea6f0",
   "metadata": {},
   "source": [
    "Напишите функцию, которая выводит на экран ромб, составленный из символов звёздочек `*`. Размер ромба определяется введённым пользователем нечётным числом n, которое задаёт ширину (и высоту) ромба в его самой широкой части."
   ]
  },
  {
   "cell_type": "code",
   "execution_count": null,
   "id": "4b19f7e2",
   "metadata": {},
   "outputs": [],
   "source": [
    "def draw(n):\n",
    "    pass\n",
    "\n",
    "print(draw(7))\n",
    "#   *\n",
    "#  ***\n",
    "# *****\n",
    "#*******\n",
    "# *****\n",
    "#  ***\n",
    "#   *"
   ]
  },
  {
   "cell_type": "markdown",
   "id": "a86c90c8",
   "metadata": {},
   "source": [
    "# НОД"
   ]
  },
  {
   "cell_type": "markdown",
   "id": "3f967b9f",
   "metadata": {
    "ExecuteTime": {
     "end_time": "2024-11-29T05:21:08.316284Z",
     "start_time": "2024-11-29T05:21:08.286749Z"
    }
   },
   "source": [
    "Напишите функцию, которая вычисляет наибольший общий делитель (НОД) двух целых чисел."
   ]
  },
  {
   "cell_type": "code",
   "execution_count": null,
   "id": "de608275",
   "metadata": {},
   "outputs": [],
   "source": [
    "def gcd(a, b):\n",
    "    pass\n",
    "\n",
    "print(gcd(48, 18))   # Вывод: 6\n",
    "print(gcd(100, 25))  # Вывод: 25\n",
    "print(gcd(17, 13))   # Вывод: 1"
   ]
  },
  {
   "cell_type": "markdown",
   "id": "49641d4f",
   "metadata": {
    "ExecuteTime": {
     "end_time": "2024-11-29T05:22:49.681923Z",
     "start_time": "2024-11-29T05:22:49.657297Z"
    }
   },
   "source": [
    "# Система счисления"
   ]
  },
  {
   "cell_type": "markdown",
   "id": "82e1a3cf",
   "metadata": {},
   "source": [
    "Напишите функцию, которая принимает строковое представление числа в произвольной системе (макс. 36) счисления и его основание, и возвращает это число в десятичной системе счисления."
   ]
  },
  {
   "cell_type": "code",
   "execution_count": null,
   "id": "0365d57b",
   "metadata": {
    "ExecuteTime": {
     "end_time": "2024-11-29T05:23:50.498455Z",
     "start_time": "2024-11-29T05:23:50.480951Z"
    }
   },
   "outputs": [],
   "source": [
    "def convert_to_decimal(number_str, base):\n",
    "    pass\n",
    "\n",
    "print(convert_to_decimal(\"1010\", 2))    # Вывод: 10\n",
    "print(convert_to_decimal(\"1A\", 16))     # Вывод: 26\n",
    "print(convert_to_decimal(\"123\", 8))     # Вывод: 83\n",
    "print(convert_to_decimal(\"Z\", 36))      # Вывод: 35"
   ]
  },
  {
   "cell_type": "markdown",
   "id": "be9f88ed",
   "metadata": {
    "ExecuteTime": {
     "end_time": "2024-11-29T05:24:07.620180Z",
     "start_time": "2024-11-29T05:24:07.594765Z"
    }
   },
   "source": [
    "# Палиндром"
   ]
  },
  {
   "cell_type": "markdown",
   "id": "f0a84a85",
   "metadata": {},
   "source": [
    "Напишите функцию, которая проверяет, является ли заданная строка палиндромом."
   ]
  },
  {
   "cell_type": "code",
   "execution_count": null,
   "id": "70581d0a",
   "metadata": {
    "ExecuteTime": {
     "end_time": "2024-11-29T05:25:32.462861Z",
     "start_time": "2024-11-29T05:25:32.440252Z"
    }
   },
   "outputs": [],
   "source": [
    "def is_palindrome(s):\n",
    "    pass\n",
    "\n",
    "print(is_palindrome(\"мадам\"))                  # Вывод: True\n",
    "print(is_palindrome(\"топот\"))                  # Вывод: True\n",
    "print(is_palindrome(\"привет\"))                 # Вывод: False"
   ]
  },
  {
   "cell_type": "markdown",
   "id": "71e9e2d5",
   "metadata": {},
   "source": [
    "# k порядковая статистика"
   ]
  },
  {
   "cell_type": "markdown",
   "id": "6684874d",
   "metadata": {},
   "source": [
    "Напишите функцию, которая принимает массив чисел и целое число $k$, и вычисляет количество элементов в массиве, которые больше, чем элемент, находящийся на позиции $k$ в упорядоченном по возрастанию массиве (т.е. больше, чем $k$-я порядковая статистика)."
   ]
  },
  {
   "cell_type": "code",
   "execution_count": null,
   "id": "44ed558c",
   "metadata": {},
   "outputs": [],
   "source": [
    "def count_greater_than_kth(arr, k):\n",
    "    pass\n",
    "\n",
    "arr = [5, 3, 8, 6, 2]\n",
    "k = 3\n",
    "result = count_greater_than_kth(arr, k)\n",
    "print(result)  # Вывод: 2"
   ]
  },
  {
   "cell_type": "markdown",
   "id": "77efd0dc",
   "metadata": {},
   "source": [
    "# Уникальные подстроки"
   ]
  },
  {
   "cell_type": "markdown",
   "id": "46fef851",
   "metadata": {},
   "source": [
    "Напишите функцию, которая принимает строку и целое число k, и подсчитывает количество уникальных подстрок длины k в этом тексте."
   ]
  },
  {
   "cell_type": "code",
   "execution_count": null,
   "id": "424e65b3",
   "metadata": {},
   "outputs": [],
   "source": [
    "def count_unique_substrings(text, k):\n",
    "    pass\n",
    "\n",
    "text = \"abcabc\"\n",
    "k = 3\n",
    "result = count_unique_substrings(text, k)\n",
    "print(result)  # Вывод: 3"
   ]
  },
  {
   "cell_type": "markdown",
   "id": "cf18ac36",
   "metadata": {},
   "source": [
    "# Минимум"
   ]
  },
  {
   "cell_type": "markdown",
   "id": "9877ee9c",
   "metadata": {},
   "source": [
    "Напишите функцию, которая для заданного целого числа N находит такие целые положительные числа $a, b, c$, что произведение $a * b * c = N$, и сумма $a + b + c$ минимальна."
   ]
  },
  {
   "cell_type": "code",
   "execution_count": null,
   "id": "d9d979e2",
   "metadata": {},
   "outputs": [],
   "source": [
    "def minimum(n):\n",
    "    pass\n",
    "\n",
    "print(minimum(12))                  # Вывод: 2, 2, 3\n",
    "print(minimum(27))                  # Вывод: 3, 3, 3\n",
    "print(minimum(7))                   # Вывод: 1, 1, 7"
   ]
  },
  {
   "cell_type": "markdown",
   "id": "9e5b32c1",
   "metadata": {
    "ExecuteTime": {
     "end_time": "2024-11-29T05:39:16.335011Z",
     "start_time": "2024-11-29T05:39:16.321409Z"
    }
   },
   "source": [
    "# Определитель"
   ]
  },
  {
   "cell_type": "markdown",
   "id": "1458eff3",
   "metadata": {
    "ExecuteTime": {
     "end_time": "2024-11-29T05:39:34.497125Z",
     "start_time": "2024-11-29T05:39:34.474266Z"
    }
   },
   "source": [
    "Напишите функцию, которая вычисляет определитель заданной квадратной матрицы."
   ]
  },
  {
   "cell_type": "code",
   "execution_count": null,
   "id": "40491c23",
   "metadata": {},
   "outputs": [],
   "source": [
    "def determinant(matrix):\n",
    "    pass\n",
    "\n",
    "matrix = [\n",
    "    [1, 2],\n",
    "    [3, 4]\n",
    "]\n",
    "result = determinant(matrix)\n",
    "print(result)  # Вывод: -2"
   ]
  },
  {
   "cell_type": "markdown",
   "id": "c9983f43",
   "metadata": {},
   "source": [
    "# Скобочная последовательность"
   ]
  },
  {
   "cell_type": "markdown",
   "id": "e776102b",
   "metadata": {},
   "source": [
    "Напишите функцию, которая проверяет правильность скобочной последовательности в заданной строке. Последовательность считается правильной, если все открывающиеся скобки корректно закрываются соответствующими закрывающими скобками в правильном порядке."
   ]
  },
  {
   "cell_type": "code",
   "execution_count": null,
   "id": "0afd220e",
   "metadata": {},
   "outputs": [],
   "source": [
    "def is_valid_sequence(s):\n",
    "    pass\n",
    "\n",
    "s = \"({[]})\"\n",
    "result = is_valid_sequence(s)\n",
    "print(result)  # Вывод: True"
   ]
  }
 ],
 "metadata": {
  "kernelspec": {
   "display_name": "Python 3 (ipykernel)",
   "language": "python",
   "name": "python3"
  },
  "language_info": {
   "codemirror_mode": {
    "name": "ipython",
    "version": 3
   },
   "file_extension": ".py",
   "mimetype": "text/x-python",
   "name": "python",
   "nbconvert_exporter": "python",
   "pygments_lexer": "ipython3",
   "version": "3.9.20"
  }
 },
 "nbformat": 4,
 "nbformat_minor": 5
}
